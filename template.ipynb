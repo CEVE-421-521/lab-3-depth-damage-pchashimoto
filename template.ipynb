{
  "cells": [
    {
      "cell_type": "raw",
      "metadata": {},
      "source": [
        "---\n",
        "title: 'Lab 3: Depth-Damage Models'\n",
        "subtitle: DataFrames and Distributions\n",
        "author: Patricia Hashimoto\n",
        "date: '2024-01-26'\n",
        "week: 3\n",
        "categories:\n",
        "  - Lab\n",
        "format:\n",
        "  html:\n",
        "    theme: spacelab\n",
        "    copy-code: true\n",
        "    code-overflow: wrap\n",
        "    toc: true\n",
        "    anchor-sections: true\n",
        "    callout-appearance: simple\n",
        "    reference-location: document\n",
        "    citations-hover: true\n",
        "    code-annotations: hover\n",
        "    code-line-numbers: true\n",
        "    html-math-method: katex\n",
        "  pdf:\n",
        "    documentclass: article\n",
        "    fontsize: 11pt\n",
        "    geometry:\n",
        "      - margin=1in\n",
        "    number-sections: true\n",
        "    code-line-numbers: true\n",
        "date-format: 'ddd., MMM. D'\n",
        "---"
      ],
      "id": "9b6a3d69"
    },
    {
      "cell_type": "code",
      "metadata": {},
      "source": [
        "using CSV\n",
        "using DataFrames\n",
        "using DataFramesMeta\n",
        "using Distributions\n",
        "using Interpolations\n",
        "using Plots\n",
        "using StatsPlots\n",
        "using Unitful\n",
        "using Random\n",
        "\n",
        "Plots.default(; margin=6Plots.mm)"
      ],
      "id": "7f32af44",
      "execution_count": null,
      "outputs": []
    },
    {
      "cell_type": "markdown",
      "metadata": {},
      "source": [
        "# Site information\n",
        "I selected the water gauge at 8771450 Galveston Pier 21, TX, which is located at the coordinates 29.31, -94.626667. The building I selected is the Ocean Star Museum Gift Shop, which is located at the coordinates 29.31046, -94.7917. Based on an estimate from Google Maps, the straight line distance between these points, not accounting for elevation differences, is less than 600 feet. An estimate from the USGS National Map Viewer suggests that this building is at an elevation of approximately 1.01m, or 3.31ft.\n",
        "\n",
        "# Depth-Damage\n"
      ],
      "id": "e22f5449"
    },
    {
      "cell_type": "code",
      "metadata": {},
      "source": [
        "include(\"depthdamage.jl\")\n",
        "haz_fl_dept = CSV.read(\"data/haz_fl_dept.csv\", DataFrame)"
      ],
      "id": "f7700e07",
      "execution_count": null,
      "outputs": []
    },
    {
      "cell_type": "markdown",
      "metadata": {},
      "source": [
        "Because the selected structure is a museum gift shop, we will use the HAZUS row with the description \"Gift Shop, contents (Inventory)\".\n"
      ],
      "id": "9923e8b1"
    },
    {
      "cell_type": "code",
      "metadata": {},
      "source": [
        "ocean_star_row = @rsubset(\n",
        "    haz_fl_dept, :Description == \"Gift Shop, contents (Inventory)\"\n",
        ")[\n",
        "    1, :,\n",
        "]\n",
        "ocean_star_dd = DepthDamageData(ocean_star_row)"
      ],
      "id": "b9a14961",
      "execution_count": null,
      "outputs": []
    },
    {
      "cell_type": "code",
      "metadata": {},
      "source": [
        "scatter(\n",
        "    ocean_star_dd.depths,\n",
        "    ocean_star_dd.damages;\n",
        "    xlabel=\"Flood Depth at Building\",\n",
        "    ylabel=\"Damage (%)\",\n",
        "    label=\"$(ocean_star_dd.description) ($(ocean_star_dd.source))\",\n",
        "    legend=:bottomright,\n",
        "    size=(700, 500),\n",
        ")"
      ],
      "id": "5e025f13",
      "execution_count": null,
      "outputs": []
    },
    {
      "cell_type": "code",
      "metadata": {},
      "source": [
        "#| output: false\n",
        "itp = let # <1>\n",
        "    depth_ft = ustrip.(u\"ft\", ocean_star_dd.depths) # <2>\n",
        "    damage_frac = ocean_star_dd.damages\n",
        "    Interpolations.LinearInterpolation(\n",
        "        depth_ft,\n",
        "        damage_frac;\n",
        "        extrapolation_bc=Interpolations.Flat(), # <3>\n",
        "    )\n",
        "end"
      ],
      "id": "fa29c337",
      "execution_count": null,
      "outputs": []
    },
    {
      "cell_type": "code",
      "metadata": {},
      "source": [
        "function get_depth_damage_function(\n",
        "    depth_train::Vector{<:T}, dmg_train::Vector{<:AbstractFloat}\n",
        ") where {T<:Unitful.Length}\n",
        "\n",
        "    # interpolate\n",
        "    depth_ft = ustrip.(u\"ft\", depth_train)\n",
        "    interp_fn = Interpolations.LinearInterpolation(\n",
        "        depth_ft, # <1>\n",
        "        dmg_train;\n",
        "        extrapolation_bc=Interpolations.Flat(), # <2>\n",
        "    )\n",
        "\n",
        "    damage_fn = function (depth::T2) where {T2<:Unitful.Length}\n",
        "        return interp_fn(ustrip.(u\"ft\", depth)) # <3>\n",
        "    end\n",
        "    return damage_fn # <4>\n",
        "end"
      ],
      "id": "03d1e5a9",
      "execution_count": null,
      "outputs": []
    },
    {
      "cell_type": "code",
      "metadata": {},
      "source": [
        "damage_fn = get_depth_damage_function(ocean_star_dd.depths, ocean_star_dd.damages)"
      ],
      "id": "3677b772",
      "execution_count": null,
      "outputs": []
    },
    {
      "cell_type": "code",
      "metadata": {},
      "source": [
        "p = let\n",
        "    depths = uconvert.(u\"ft\", (-10.0u\"ft\"):(1.0u\"inch\"):(30.0u\"ft\")) # <1>\n",
        "    damages = damage_fn.(depths) # <2>\n",
        "    scatter(\n",
        "        depths,\n",
        "        damages;\n",
        "        xlabel=\"Flood Depth\",\n",
        "        ylabel=\"Damage (%)\",\n",
        "        label=\"$(ocean_star_dd.description) ($(ocean_star_dd.source))\",\n",
        "        legend=:bottomright,\n",
        "        size=(800, 400),\n",
        "        linewidth=2,\n",
        "    )\n",
        "end\n",
        "p"
      ],
      "id": "68feb712",
      "execution_count": null,
      "outputs": []
    },
    {
      "cell_type": "markdown",
      "metadata": {},
      "source": [
        "# Expected annual damages\n"
      ],
      "id": "ab72d2bb"
    },
    {
      "cell_type": "code",
      "metadata": {},
      "source": [
        "gauge_dist = GeneralizedExtremeValue(5, 1.5, 0.1)\n",
        "p1 = plot(\n",
        "    gauge_dist;\n",
        "    label=\"Gauge Distribution\",\n",
        "    xlabel=\"Water Level (ft)\",\n",
        "    ylabel=\"Probability Density\",\n",
        "    legend=:topright,\n",
        "    linewidth=2,\n",
        ")\n",
        "\n",
        "offset = 3.31 # house is 2.5 feet above gauge\n",
        "house_dist = GeneralizedExtremeValue(gauge_dist.μ - offset, gauge_dist.σ, gauge_dist.ξ)\n",
        "\n",
        "plot!(p1, house_dist; label=\"Gift Shop Distribution\", linewidth=2)"
      ],
      "id": "d3d74139",
      "execution_count": null,
      "outputs": []
    },
    {
      "cell_type": "code",
      "metadata": {},
      "source": [
        "Random.seed!(123)\n",
        "samp = 1u\"km\".* rand(gauge_dist, 100)"
      ],
      "id": "e3f8395a",
      "execution_count": null,
      "outputs": []
    },
    {
      "cell_type": "code",
      "metadata": {},
      "source": [
        "dmg_fn(samp) = itp(ustrip.(u\"ft\", samp)) # <1>\n",
        "dmg_fn.(samp) # <2>\n",
        "\n",
        "p = let\n",
        "    depths = samp # <1>\n",
        "    damages = dmg_fn.(depths) # <2>\n",
        "    scatter(\n",
        "        depths,\n",
        "        damages;\n",
        "        xlabel=\"Flood Depth\",\n",
        "        ylabel=\"Damage (%)\",\n",
        "        label=\"$(ocean_star_dd.description) ($(ocean_star_dd.source))\",\n",
        "        legend=:bottomright,\n",
        "        size=(800, 400),\n",
        "        linewidth=2,\n",
        "    )\n",
        "end"
      ],
      "id": "1737bacb",
      "execution_count": null,
      "outputs": []
    },
    {
      "cell_type": "markdown",
      "metadata": {},
      "source": [
        "# Discussion"
      ],
      "id": "e2eaa532"
    }
  ],
  "metadata": {
    "kernelspec": {
      "name": "julia-1.10",
      "language": "julia",
      "display_name": "Julia 1.10.0"
    }
  },
  "nbformat": 4,
  "nbformat_minor": 5
}